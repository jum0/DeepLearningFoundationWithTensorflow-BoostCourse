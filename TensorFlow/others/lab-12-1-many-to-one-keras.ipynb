{
 "cells": [
  {
   "cell_type": "markdown",
   "metadata": {},
   "source": [
    "# Lab 12-1 many to one\n",
    "### word sentiment classification \n",
    "* many to one \n",
    "* variable input sequence length"
   ]
  },
  {
   "cell_type": "code",
   "execution_count": 1,
   "metadata": {},
   "outputs": [
    {
     "name": "stdout",
     "output_type": "stream",
     "text": [
      "1.12.0\n"
     ]
    }
   ],
   "source": [
    "import numpy as np\n",
    "import tensorflow as tf\n",
    "from tensorflow import keras\n",
    "from tensorflow.keras import Sequential, Model\n",
    "from tensorflow.keras import layers\n",
    "from tensorflow.keras.preprocessing.sequence import pad_sequences\n",
    "import matplotlib.pyplot as plt\n",
    "%matplotlib inline\n",
    "\n",
    "print(tf.__version__)"
   ]
  },
  {
   "cell_type": "markdown",
   "metadata": {},
   "source": [
    "### Prepairing dataset"
   ]
  },
  {
   "cell_type": "code",
   "execution_count": 2,
   "metadata": {},
   "outputs": [
    {
     "name": "stdout",
     "output_type": "stream",
     "text": [
      "['<pad>', ' ', 'a', 'b', 'd', 'e', 'g', 'o', 'r', 's', 'w']\n",
      "{0: '<pad>', 1: ' ', 2: 'a', 3: 'b', 4: 'd', 5: 'e', 6: 'g', 7: 'o', 8: 'r', 9: 's', 10: 'w'}\n",
      "{'<pad>': 0, ' ': 1, 'a': 2, 'b': 3, 'd': 4, 'e': 5, 'g': 6, 'o': 7, 'r': 8, 's': 9, 'w': 10}\n"
     ]
    }
   ],
   "source": [
    "# example data\n",
    "words = ['good', 'bad', 'worse', 'so good']\n",
    "y_data = [1,0,0,1]\n",
    "\n",
    "# generating a Token dictionary\n",
    "char_set = ['<pad>'] + sorted(list(set(''.join(words))))\n",
    "idx2char = {idx : char for idx, char in enumerate(char_set)}\n",
    "char2idx = {char : idx for idx, char in enumerate(char_set)}\n",
    "\n",
    "print(char_set)\n",
    "print(idx2char)\n",
    "print(char2idx)"
   ]
  },
  {
   "cell_type": "code",
   "execution_count": 3,
   "metadata": {},
   "outputs": [
    {
     "name": "stdout",
     "output_type": "stream",
     "text": [
      "[[6, 7, 7, 4], [3, 2, 4], [10, 7, 8, 9, 5], [9, 7, 1, 6, 7, 7, 4]]\n",
      "[4, 3, 5, 7]\n"
     ]
    }
   ],
   "source": [
    "# converting Token to Idx\n",
    "x_data = list(map(lambda word : [char2idx.get(char) for char in word], words))\n",
    "x_data_len = list(map(lambda word : len(word), x_data))\n",
    "\n",
    "print(x_data)\n",
    "print(x_data_len)"
   ]
  },
  {
   "cell_type": "code",
   "execution_count": 4,
   "metadata": {},
   "outputs": [
    {
     "name": "stdout",
     "output_type": "stream",
     "text": [
      "[[ 6  7  7  4  0  0  0  0  0  0]\n",
      " [ 3  2  4  0  0  0  0  0  0  0]\n",
      " [10  7  8  9  5  0  0  0  0  0]\n",
      " [ 9  7  1  6  7  7  4  0  0  0]]\n",
      "[4, 3, 5, 7]\n",
      "[1, 0, 0, 1]\n"
     ]
    }
   ],
   "source": [
    "# padding \n",
    "max_sequence = 10\n",
    "x_data = pad_sequences(sequences = x_data, maxlen = max_sequence, padding='post',\n",
    "                       truncating='post')\n",
    "\n",
    "print(x_data)\n",
    "print(x_data_len)\n",
    "print(y_data)"
   ]
  },
  {
   "cell_type": "code",
   "execution_count": 5,
   "metadata": {},
   "outputs": [
    {
     "name": "stdout",
     "output_type": "stream",
     "text": [
      "<RepeatDataset shapes: ((?, 10), (?,)), types: (tf.int32, tf.int32)>\n"
     ]
    }
   ],
   "source": [
    "# generating data pipeline \n",
    "tr_dataset = tf.data.Dataset.from_tensor_slices((x_data, y_data))\n",
    "tr_dataset = tr_dataset.batch(batch_size = 2).repeat()\n",
    "print(tr_dataset)"
   ]
  },
  {
   "cell_type": "markdown",
   "metadata": {},
   "source": [
    "### Creating model"
   ]
  },
  {
   "cell_type": "code",
   "execution_count": 6,
   "metadata": {},
   "outputs": [],
   "source": [
    "num_classes = 2\n",
    "hidden_dim = 10\n",
    "\n",
    "input_dim = len(char2idx)\n",
    "output_dim = len(char2idx)\n",
    "one_hot = np.eye(len(char2idx))\n",
    "\n",
    "model = Sequential()\n",
    "model.add(layers.Embedding(input_dim=input_dim, output_dim=output_dim,\n",
    "                                 trainable=False, mask_zero=True,input_length=max_sequence,\n",
    "                                 embeddings_initializer=keras.initializers.Constant(one_hot)))\n",
    "model.add(layers.SimpleRNN(units=hidden_dim))\n",
    "model.add(layers.Dense(units=num_classes, activation='softmax'))"
   ]
  },
  {
   "cell_type": "code",
   "execution_count": 7,
   "metadata": {},
   "outputs": [
    {
     "name": "stdout",
     "output_type": "stream",
     "text": [
      "_________________________________________________________________\n",
      "Layer (type)                 Output Shape              Param #   \n",
      "=================================================================\n",
      "embedding (Embedding)        (None, 10, 11)            121       \n",
      "_________________________________________________________________\n",
      "simple_rnn (SimpleRNN)       (None, 10)                220       \n",
      "_________________________________________________________________\n",
      "dense (Dense)                (None, 2)                 22        \n",
      "=================================================================\n",
      "Total params: 363\n",
      "Trainable params: 242\n",
      "Non-trainable params: 121\n",
      "_________________________________________________________________\n"
     ]
    }
   ],
   "source": [
    "model.summary()"
   ]
  },
  {
   "cell_type": "markdown",
   "metadata": {},
   "source": [
    "### Training model"
   ]
  },
  {
   "cell_type": "code",
   "execution_count": 8,
   "metadata": {},
   "outputs": [],
   "source": [
    "lr = .01\n",
    "opt = tf.train.AdamOptimizer(learning_rate = lr)\n",
    "\n",
    "model.compile(optimizer=opt,\n",
    "              loss=keras.losses.sparse_categorical_crossentropy,\n",
    "              metrics=['accuracy'])"
   ]
  },
  {
   "cell_type": "code",
   "execution_count": 9,
   "metadata": {},
   "outputs": [
    {
     "name": "stdout",
     "output_type": "stream",
     "text": [
      "Epoch 1/30\n",
      "2/2 [==============================] - 0s 163ms/step - loss: 0.6284 - acc: 0.7500\n",
      "Epoch 2/30\n",
      "2/2 [==============================] - 0s 6ms/step - loss: 0.4830 - acc: 1.0000\n",
      "Epoch 3/30\n",
      "2/2 [==============================] - 0s 10ms/step - loss: 0.3766 - acc: 1.0000\n",
      "Epoch 4/30\n",
      "2/2 [==============================] - 0s 10ms/step - loss: 0.2925 - acc: 1.0000\n",
      "Epoch 5/30\n",
      "2/2 [==============================] - 0s 8ms/step - loss: 0.2264 - acc: 1.0000\n",
      "Epoch 6/30\n",
      "2/2 [==============================] - 0s 7ms/step - loss: 0.1748 - acc: 1.0000\n",
      "Epoch 7/30\n",
      "2/2 [==============================] - 0s 8ms/step - loss: 0.1345 - acc: 1.0000\n",
      "Epoch 8/30\n",
      "2/2 [==============================] - 0s 10ms/step - loss: 0.1032 - acc: 1.0000\n",
      "Epoch 9/30\n",
      "2/2 [==============================] - 0s 9ms/step - loss: 0.0792 - acc: 1.0000\n",
      "Epoch 10/30\n",
      "2/2 [==============================] - 0s 11ms/step - loss: 0.0609 - acc: 1.0000\n",
      "Epoch 11/30\n",
      "2/2 [==============================] - 0s 8ms/step - loss: 0.0472 - acc: 1.0000\n",
      "Epoch 12/30\n",
      "2/2 [==============================] - 0s 8ms/step - loss: 0.0370 - acc: 1.0000\n",
      "Epoch 13/30\n",
      "2/2 [==============================] - 0s 11ms/step - loss: 0.0294 - acc: 1.0000\n",
      "Epoch 14/30\n",
      "2/2 [==============================] - 0s 9ms/step - loss: 0.0237 - acc: 1.0000\n",
      "Epoch 15/30\n",
      "2/2 [==============================] - 0s 9ms/step - loss: 0.0195 - acc: 1.0000\n",
      "Epoch 16/30\n",
      "2/2 [==============================] - 0s 8ms/step - loss: 0.0162 - acc: 1.0000\n",
      "Epoch 17/30\n",
      "2/2 [==============================] - 0s 12ms/step - loss: 0.0138 - acc: 1.0000\n",
      "Epoch 18/30\n",
      "2/2 [==============================] - 0s 9ms/step - loss: 0.0118 - acc: 1.0000\n",
      "Epoch 19/30\n",
      "2/2 [==============================] - 0s 9ms/step - loss: 0.0103 - acc: 1.0000\n",
      "Epoch 20/30\n",
      "2/2 [==============================] - 0s 9ms/step - loss: 0.0091 - acc: 1.0000\n",
      "Epoch 21/30\n",
      "2/2 [==============================] - 0s 9ms/step - loss: 0.0081 - acc: 1.0000\n",
      "Epoch 22/30\n",
      "2/2 [==============================] - 0s 9ms/step - loss: 0.0073 - acc: 1.0000\n",
      "Epoch 23/30\n",
      "2/2 [==============================] - 0s 10ms/step - loss: 0.0066 - acc: 1.0000\n",
      "Epoch 24/30\n",
      "2/2 [==============================] - 0s 9ms/step - loss: 0.0061 - acc: 1.0000\n",
      "Epoch 25/30\n",
      "2/2 [==============================] - 0s 9ms/step - loss: 0.0056 - acc: 1.0000\n",
      "Epoch 26/30\n",
      "2/2 [==============================] - 0s 9ms/step - loss: 0.0052 - acc: 1.0000\n",
      "Epoch 27/30\n",
      "2/2 [==============================] - 0s 9ms/step - loss: 0.0048 - acc: 1.0000\n",
      "Epoch 28/30\n",
      "2/2 [==============================] - 0s 9ms/step - loss: 0.0045 - acc: 1.0000\n",
      "Epoch 29/30\n",
      "2/2 [==============================] - 0s 9ms/step - loss: 0.0043 - acc: 1.0000\n",
      "Epoch 30/30\n",
      "2/2 [==============================] - 0s 9ms/step - loss: 0.0040 - acc: 1.0000\n"
     ]
    },
    {
     "data": {
      "text/plain": [
       "<tensorflow.python.keras.callbacks.History at 0x7fb818ecfc50>"
      ]
     },
     "execution_count": 9,
     "metadata": {},
     "output_type": "execute_result"
    }
   ],
   "source": [
    "model.fit(tr_dataset, epochs=30, steps_per_epoch=4//2)"
   ]
  },
  {
   "cell_type": "markdown",
   "metadata": {},
   "source": [
    "### Checking performance"
   ]
  },
  {
   "cell_type": "code",
   "execution_count": 10,
   "metadata": {},
   "outputs": [],
   "source": [
    "yhat = model.predict(x_data)\n",
    "yhat = np.argmax(yhat, axis=-1)"
   ]
  },
  {
   "cell_type": "code",
   "execution_count": 11,
   "metadata": {},
   "outputs": [
    {
     "name": "stdout",
     "output_type": "stream",
     "text": [
      "acc : 100.00%\n"
     ]
    }
   ],
   "source": [
    "print('acc : {:.2%}'.format(np.mean(yhat == y_data)))"
   ]
  }
 ],
 "metadata": {
  "kernelspec": {
   "display_name": "Python 3",
   "language": "python",
   "name": "python3"
  },
  "language_info": {
   "codemirror_mode": {
    "name": "ipython",
    "version": 3
   },
   "file_extension": ".py",
   "mimetype": "text/x-python",
   "name": "python",
   "nbconvert_exporter": "python",
   "pygments_lexer": "ipython3",
   "version": "3.6.8"
  },
  "varInspector": {
   "cols": {
    "lenName": 16,
    "lenType": 16,
    "lenVar": 40
   },
   "kernels_config": {
    "python": {
     "delete_cmd_postfix": "",
     "delete_cmd_prefix": "del ",
     "library": "var_list.py",
     "varRefreshCmd": "print(var_dic_list())"
    },
    "r": {
     "delete_cmd_postfix": ") ",
     "delete_cmd_prefix": "rm(",
     "library": "var_list.r",
     "varRefreshCmd": "cat(var_dic_list()) "
    }
   },
   "types_to_exclude": [
    "module",
    "function",
    "builtin_function_or_method",
    "instance",
    "_Feature"
   ],
   "window_display": false
  }
 },
 "nbformat": 4,
 "nbformat_minor": 2
}
