{
 "cells": [
  {
   "cell_type": "code",
   "execution_count": 18,
   "metadata": {},
   "outputs": [
    {
     "name": "stdout",
     "output_type": "stream",
     "text": [
      "    0 | 40593.0000\n",
      "  100 |    25.6043\n",
      "  200 |    20.5191\n",
      "  300 |    20.4284\n",
      "  400 |    20.3388\n",
      "  500 |    20.2497\n",
      "  600 |    20.1611\n",
      "  700 |    20.0730\n",
      "  800 |    19.9853\n",
      "  900 |    19.8981\n",
      " 1000 |    19.8113\n",
      " 1100 |    19.7250\n",
      " 1200 |    19.6391\n",
      " 1300 |    19.5538\n",
      " 1400 |    19.4688\n",
      " 1500 |    19.3844\n",
      " 1600 |    19.3004\n",
      " 1700 |    19.2168\n",
      " 1800 |    19.1336\n",
      " 1900 |    19.0509\n",
      " 2000 |    18.9686\n"
     ]
    }
   ],
   "source": [
    "import tensorflow as tf\n",
    "import numpy as np\n",
    "\n",
    "data = np.array([\n",
    "    # X1, X2, X3, y\n",
    "    [73., 80.,  75., 152. ],\n",
    "    [93., 88.,  93., 185. ],\n",
    "    [89., 91.,  90., 180. ],\n",
    "    [96., 98., 100., 196. ],\n",
    "    [73., 66.,  70., 142. ]\n",
    "],  dtype=np.float32)\n",
    "\n",
    "# slice data\n",
    "X = data[:, :-1]\n",
    "y = data[:, [-1]]\n",
    "\n",
    "W = tf.Variable(tf.random.normal([3, 1])) # 3행 1열\n",
    "b = tf.Variable(tf.random.normal([1]))\n",
    "\n",
    "learning_rate = 0.000001\n",
    "\n",
    "# hypothesis, prediction function\n",
    "def predict(X):\n",
    "    return tf.matmul(X, W) + b # matmul 행렬 간의 곱\n",
    "\n",
    "n_epochs = 2000\n",
    "for i in range(n_epochs+1):\n",
    "    # record the gradient of the cost function\n",
    "    with tf.GradientTape() as tape:\n",
    "        cost = tf.reduce_mean((tf.square(predict(X) - y)))\n",
    "        \n",
    "        # calculates the gradients of the loss\n",
    "        # gradient(cost, [W, b])는 함수 cost의 변수 W, b에 대한 개별 미분값(기울기)을 구해서 튜플로 반환\n",
    "        W_grad, b_grad = tape.gradient(cost, [W, b])\n",
    "        \n",
    "        # updates parameters (W and b)\n",
    "        W.assign_sub(learning_rate * W_grad)\n",
    "        b.assign_sub(learning_rate * b_grad)\n",
    "        \n",
    "        if i % 100  == 0:\n",
    "            print(\"{:5} | {:10.4f}\".format(i, cost.numpy()))\n",
    "\n"
   ]
  }
 ],
 "metadata": {
  "kernelspec": {
   "display_name": "Python 3",
   "language": "python",
   "name": "python3"
  },
  "language_info": {
   "codemirror_mode": {
    "name": "ipython",
    "version": 3
   },
   "file_extension": ".py",
   "mimetype": "text/x-python",
   "name": "python",
   "nbconvert_exporter": "python",
   "pygments_lexer": "ipython3",
   "version": "3.8.5"
  }
 },
 "nbformat": 4,
 "nbformat_minor": 4
}
